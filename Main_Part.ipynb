{
 "cells": [
  {
   "cell_type": "code",
   "execution_count": 1,
   "metadata": {},
   "outputs": [],
   "source": [
    "import numpy as np\n",
    "import pandas as pd\n",
    "import nltk\n",
    "import re\n",
    "\n",
    "import matplotlib.pyplot as plt\n",
    "import matplotlib\n",
    "from numpy import *\n",
    "from sklearn import *\n",
    "from scipy import stats\n",
    "import csv\n",
    "random.seed(100)\n",
    "\n",
    "from PIL import Image\n",
    "from collections import Counter"
   ]
  },
  {
   "cell_type": "code",
   "execution_count": 2,
   "metadata": {},
   "outputs": [],
   "source": [
    "import nltk\n",
    "from nltk.tokenize import word_tokenize\n",
    "from nltk.corpus import stopwords\n",
    "from nltk.stem.wordnet import WordNetLemmatizer\n",
    "from nltk.stem.porter import PorterStemmer"
   ]
  },
  {
   "cell_type": "code",
   "execution_count": 3,
   "metadata": {},
   "outputs": [
    {
     "name": "stdout",
     "output_type": "stream",
     "text": [
      "\"punkt\" is downloaded.\n",
      "\"Stopwords\" are downloaded.\n",
      "Algorithm for lemmatization is downloaded.\n",
      "download vader lexicon\n"
     ]
    },
    {
     "name": "stderr",
     "output_type": "stream",
     "text": [
      "[nltk_data] Downloading package punkt to /Users/amayaqing/nltk_data...\n",
      "[nltk_data]   Package punkt is already up-to-date!\n",
      "[nltk_data] Downloading package stopwords to\n",
      "[nltk_data]     /Users/amayaqing/nltk_data...\n",
      "[nltk_data]   Package stopwords is already up-to-date!\n",
      "[nltk_data] Downloading package wordnet to\n",
      "[nltk_data]     /Users/amayaqing/nltk_data...\n",
      "[nltk_data]   Package wordnet is already up-to-date!\n",
      "[nltk_data] Downloading package vader_lexicon to\n",
      "[nltk_data]     /Users/amayaqing/nltk_data...\n",
      "[nltk_data]   Package vader_lexicon is already up-to-date!\n"
     ]
    }
   ],
   "source": [
    "if (nltk.download(\"punkt\")):\n",
    "    print(\"\\\"punkt\\\" is downloaded.\")\n",
    "## for stopwords\n",
    "if (nltk.download('stopwords')):\n",
    "    print(\"\\\"Stopwords\\\" are downloaded.\")\n",
    "## for lemmatization\n",
    "if (nltk.download('wordnet')):\n",
    "    print(\"Algorithm for lemmatization is downloaded.\")  \n",
    "    \n",
    "if (nltk.download('vader_lexicon')):\n",
    "    print(\"download vader lexicon\")"
   ]
  },
  {
   "cell_type": "markdown",
   "metadata": {},
   "source": [
    "## Read and Process Data"
   ]
  },
  {
   "cell_type": "code",
   "execution_count": 4,
   "metadata": {},
   "outputs": [
    {
     "data": {
      "text/plain": [
       "(10240, 1267, 1284)"
      ]
     },
     "execution_count": 4,
     "metadata": {},
     "output_type": "execute_result"
    }
   ],
   "source": [
    "train_data = pd.read_csv(\"data/train.tsv\", sep='\\t', header=None)\n",
    "test_data = pd.read_csv(\"data/test.tsv\", sep='\\t', header=None)\n",
    "valid_data = pd.read_csv(\"data/valid.tsv\", sep='\\t', header=None)\n",
    "\n",
    "train_text = train_data[2]\n",
    "test_text = test_data[2]\n",
    "valid_text = valid_data[2]\n",
    "\n",
    "len(train_text), len(test_text), len(valid_text)"
   ]
  },
  {
   "cell_type": "code",
   "execution_count": 5,
   "metadata": {},
   "outputs": [],
   "source": [
    "def textclean(t):\n",
    "    '''\n",
    "    This function cleans the tweets.\n",
    "    '''\n",
    "    t = t.lower() # convert to lowercase\n",
    "    t = re.sub('\\\\\\\\u[0-9A-Fa-f]{4}','', t) # remove NON- ASCII characters\n",
    "    t = re.sub(\"[0-9]\", \"\", t) # remove numbers # re.sub(\"\\d+\", \"\", t)\n",
    "    t = re.sub('[!\"$%&\\'()*+,-./:@;<=>?[\\\\]^_`{|}~]', '', t) # remove punctuations\n",
    "    \n",
    "    return t"
   ]
  },
  {
   "cell_type": "code",
   "execution_count": 6,
   "metadata": {},
   "outputs": [],
   "source": [
    "stop_words = set(stopwords.words('english'))\n",
    "lem = WordNetLemmatizer()\n",
    "stemmer = PorterStemmer()"
   ]
  },
  {
   "cell_type": "code",
   "execution_count": 7,
   "metadata": {},
   "outputs": [],
   "source": [
    "def preprocess(t):\n",
    "    \n",
    "    # tokenization\n",
    "    tw = []\n",
    "    tw = word_tokenize(t)\n",
    "    \n",
    "    # remove the stopwords\n",
    "    fs = []\n",
    "    fs = ([i for i in tw if i not in stop_words])\n",
    "    \n",
    "    # stemming\n",
    "    # remove the inflectional forms of a word \n",
    "    # and bring them to a base form called the stem\n",
    "    ss = [stemmer.stem(i) for i in fs]\n",
    "    \n",
    "    # lemmatization\n",
    "    # convert a word to its meaningful base form\n",
    "    ns = []\n",
    "    for i in ss:\n",
    "        ns.append(lem.lemmatize(i, 'v'))\n",
    "    ns = ' '.join(ns)\n",
    "    \n",
    "    return ns"
   ]
  },
  {
   "cell_type": "code",
   "execution_count": 8,
   "metadata": {},
   "outputs": [
    {
     "name": "stdout",
     "output_type": "stream",
     "text": [
      "Before:  Says the Annies List political group supports third-trimester abortions on demand.\n",
      "After:  say anni list polit group support thirdtrimest abort demand\n"
     ]
    }
   ],
   "source": [
    "train_cleaned = [textclean(t) for t in train_text]\n",
    "train_pp = [preprocess(t) for t in train_cleaned]\n",
    "\n",
    "test_cleaned = [textclean(t) for t in test_text]\n",
    "test_pp = [preprocess(t) for t in test_cleaned]\n",
    "\n",
    "valid_cleaned = [textclean(t) for t in valid_text]\n",
    "valid_pp = [preprocess(t) for t in valid_cleaned]\n",
    "\n",
    "print(\"Before: \", train_text[0])\n",
    "print(\"After: \", train_pp[0])"
   ]
  },
  {
   "cell_type": "markdown",
   "metadata": {},
   "source": [
    "## Write into file"
   ]
  },
  {
   "cell_type": "code",
   "execution_count": 9,
   "metadata": {},
   "outputs": [],
   "source": [
    "train_data[2] = train_pp\n",
    "test_data[2] = test_pp\n",
    "valid_data[2] = valid_pp\n",
    "\n",
    "train_data.to_csv('train_cleaned.csv', index = False, encoding='utf-8', header=None)\n",
    "test_data.to_csv('test_cleaned.csv', index = False, encoding='utf-8', header=None)\n",
    "valid_data.to_csv('valid_cleaned.csv', index = False, encoding='utf-8', header=None)"
   ]
  },
  {
   "cell_type": "markdown",
   "metadata": {},
   "source": [
    "## Build document vectors"
   ]
  },
  {
   "cell_type": "code",
   "execution_count": 9,
   "metadata": {},
   "outputs": [
    {
     "name": "stdout",
     "output_type": "stream",
     "text": [
      "vocbulary size: 8265\n"
     ]
    }
   ],
   "source": [
    "# vectorize\n",
    "cntvect = feature_extraction.text.CountVectorizer(stop_words='english', max_features=None)\n",
    "\n",
    "trainX = cntvect.fit_transform(train_pp)\n",
    "testX  = cntvect.transform(test_pp)\n",
    "validX = cntvect.transform(valid_pp)\n",
    "\n",
    "trainY = train_data[1]\n",
    "testY = test_data[1]\n",
    "validY = valid_data[1]\n",
    "\n",
    "print(\"vocbulary size: {}\".format(len(cntvect.vocabulary_)))"
   ]
  },
  {
   "cell_type": "code",
   "execution_count": 10,
   "metadata": {},
   "outputs": [],
   "source": [
    "# TF-IDF representation\n",
    "tf_trans = feature_extraction.text.TfidfTransformer(use_idf=True, norm='l1')\n",
    "\n",
    "trainXtf = tf_trans.fit_transform(trainX)\n",
    "testXtf = tf_trans.transform(testX)"
   ]
  },
  {
   "cell_type": "markdown",
   "metadata": {},
   "source": [
    "## Word Cloud"
   ]
  },
  {
   "cell_type": "code",
   "execution_count": 11,
   "metadata": {},
   "outputs": [],
   "source": [
    "words_true = []\n",
    "words_fake = []\n",
    "true = {'TRUE', 'mostly-true'}\n",
    "fake = {'FALSE', 'barely-true'}\n",
    "\n",
    "for i in range(len(train_pp)): \n",
    "    if train_data[1][i] in true:\n",
    "        for w in word_tokenize(train_pp[i]):\n",
    "            words_true.append(w)\n",
    "    elif train_data[1][i] in fake:\n",
    "        for w in word_tokenize(train_pp[i]):\n",
    "            words_fake.append(w)\n",
    "\n",
    "for i in range(len(test_pp)): \n",
    "    if test_data[1][i] in true:\n",
    "        for w in word_tokenize(test_pp[i]):\n",
    "            words_true.append(w)\n",
    "    elif test_data[1][i] in fake:\n",
    "        for w in word_tokenize(test_pp[i]):\n",
    "            words_fake.append(w)\n",
    "        \n",
    "for i in range(len(valid_pp)): \n",
    "    if valid_data[1][i] in true:\n",
    "        for w in word_tokenize(valid_pp[i]):\n",
    "            words_true.append(w)\n",
    "    elif valid_data[1][i] in fake:\n",
    "        for w in word_tokenize(valid_pp[i]):\n",
    "            words_fake.append(w)"
   ]
  },
  {
   "cell_type": "code",
   "execution_count": 12,
   "metadata": {},
   "outputs": [],
   "source": [
    "from nltk.probability import FreqDist\n",
    "freq_true = FreqDist(words_true)\n",
    "fdict = {}\n",
    "for k, v in freq_true.items():\n",
    "    fdict[k] = v\n",
    "fdict = sorted(fdict.items(), key=lambda kv: kv[1], reverse=True)"
   ]
  },
  {
   "cell_type": "code",
   "execution_count": 13,
   "metadata": {},
   "outputs": [
    {
     "data": {
      "image/png": "[encoded data removed]",
      "text/plain": [
       "<Figure size 432x288 with 1 Axes>"
      ]
     },
     "metadata": {
      "needs_background": "light"
     },
     "output_type": "display_data"
    }
   ],
   "source": [
    "from matplotlib import cm\n",
    "\n",
    "topfreq = fdict[:20]\n",
    "x = [topfreq[i][0] for i in range(len(topfreq))]\n",
    "y = [topfreq[i][1] for i in range(len(topfreq))]\n",
    "x.reverse()\n",
    "y.reverse()\n",
    "\n",
    "map_vir = cm.get_cmap(name='GnBu')\n",
    "norm = plt.Normalize(min(y), max(y))\n",
    "color = map_vir(norm(y))\n",
    "\n",
    "#plt.barh(x, y, color = (0.5,0.1,0.5,0.6))\n",
    "plt.barh(x, y, color = color)\n",
    "plt.savefig(\"fig/word_count_true.png\", dpi=300)\n",
    "plt.show()\n"
   ]
  },
  {
   "cell_type": "code",
   "execution_count": 14,
   "metadata": {},
   "outputs": [],
   "source": [
    "freq_fake = FreqDist(words_fake)\n",
    "fdict = {}\n",
    "for k, v in freq_fake.items():\n",
    "    fdict[k] = v\n",
    "fdict = sorted(fdict.items(), key=lambda kv: kv[1], reverse=True)"
   ]
  },
  {
   "cell_type": "code",
   "execution_count": 15,
   "metadata": {},
   "outputs": [
    {
     "data": {
      "image/png": "[encoded data removed]",
      "text/plain": [
       "<Figure size 432x288 with 1 Axes>"
      ]
     },
     "metadata": {
      "needs_background": "light"
     },
     "output_type": "display_data"
    }
   ],
   "source": [
    "topfreq = fdict[:20]\n",
    "x = [topfreq[i][0] for i in range(len(topfreq))]\n",
    "y = [topfreq[i][1] for i in range(len(topfreq))]\n",
    "x.reverse()\n",
    "y.reverse()\n",
    "\n",
    "map_vir = cm.get_cmap(name='GnBu')\n",
    "norm = plt.Normalize(min(y), max(y))\n",
    "color = map_vir(norm(y))\n",
    "\n",
    "#plt.barh(x, y, color = (0.5,0.1,0.5,0.6))\n",
    "plt.barh(x, y, color = color)\n",
    "plt.savefig(\"fig/word_count_fake.png\", dpi=300)\n",
    "plt.show()\n",
    "\n"
   ]
  },
  {
   "cell_type": "code",
   "execution_count": 16,
   "metadata": {},
   "outputs": [
    {
     "data": {
      "image/png": "[encoded data removed]",
      "text/plain": [
       "<Figure size 432x288 with 1 Axes>"
      ]
     },
     "metadata": {
      "needs_background": "light"
     },
     "output_type": "display_data"
    }
   ],
   "source": [
    "from wordcloud import WordCloud\n",
    "\n",
    "mask = np.array(Image.open(\"comment.png\"))\n",
    "\n",
    "wc = WordCloud(\n",
    "    max_words=200,\n",
    "    background_color = 'white',\n",
    "    mask = mask,\n",
    "    width=2000, \n",
    "    height=1200\n",
    ")\n",
    "\n",
    "word_cloud = wc.generate_from_frequencies(freq_true)\n",
    "word_cloud.background_color = 'white'\n",
    "plt.imshow(word_cloud)\n",
    "plt.axis(\"off\")\n",
    "plt.savefig(\"fig/cloud_true.png\", dpi=300)\n",
    "plt.show()"
   ]
  },
  {
   "cell_type": "code",
   "execution_count": 17,
   "metadata": {},
   "outputs": [
    {
     "data": {
      "image/png": "[encoded data removed]",
      "text/plain": [
       "<Figure size 432x288 with 1 Axes>"
      ]
     },
     "metadata": {
      "needs_background": "light"
     },
     "output_type": "display_data"
    }
   ],
   "source": [
    "word_cloud = wc.generate_from_frequencies(freq_fake)\n",
    "word_cloud.background_color = 'white'\n",
    "plt.imshow(word_cloud)\n",
    "plt.axis(\"off\")\n",
    "plt.savefig(\"fig/cloud_fake.png\", dpi=300)\n",
    "plt.show()"
   ]
  },
  {
   "cell_type": "markdown",
   "metadata": {},
   "source": [
    "## Sentiment Analysis (VADER)"
   ]
  },
  {
   "cell_type": "code",
   "execution_count": 19,
   "metadata": {},
   "outputs": [],
   "source": [
    "from nltk.sentiment import SentimentIntensityAnalyzer"
   ]
  },
  {
   "cell_type": "code",
   "execution_count": 24,
   "metadata": {},
   "outputs": [
    {
     "data": {
      "text/plain": [
       "'neu'"
      ]
     },
     "execution_count": 24,
     "metadata": {},
     "output_type": "execute_result"
    }
   ],
   "source": [
    "sia = SentimentIntensityAnalyzer()\n",
    "text = train_text[0]\n",
    "res = sia.polarity_scores(text)\n",
    "res = sorted(res.items(), key=lambda kv: kv[1], reverse=True)\n",
    "res[0][0]"
   ]
  },
  {
   "cell_type": "code",
   "execution_count": 25,
   "metadata": {},
   "outputs": [],
   "source": [
    "sentiment_true, sentiment_fake = [], []\n",
    "\n",
    "for i in range(len(train_text)):\n",
    "    res = sia.polarity_scores(train_text[i])\n",
    "    res = sorted(res.items(), key=lambda kv: kv[1], reverse=True)\n",
    "    if train_data[1][i] in true:\n",
    "        sentiment_true.append(res[0][0])\n",
    "    elif train_data[1][i] in fake:\n",
    "        sentiment_fake.append(res[0][0])\n",
    "    \n",
    "for i in range(len(valid_text)):\n",
    "    res = sia.polarity_scores(valid_text[i])\n",
    "    res = sorted(res.items(), key=lambda kv: kv[1], reverse=True)\n",
    "    if valid_data[1][i] in true:\n",
    "        sentiment_true.append(res[0][0])\n",
    "    elif valid_data[1][i] in fake:\n",
    "        sentiment_fake.append(res[0][0])\n",
    "\n",
    "for i in range(len(test_text)):\n",
    "    res = sia.polarity_scores(test_text[i])\n",
    "    res = sorted(res.items(), key=lambda kv: kv[1], reverse=True)\n",
    "    if test_data[1][i] in true:\n",
    "        sentiment_true.append(res[0][0])\n",
    "    elif test_data[1][i] in fake:\n",
    "        sentiment_fake.append(res[0][0])"
   ]
  },
  {
   "cell_type": "code",
   "execution_count": 26,
   "metadata": {},
   "outputs": [
    {
     "data": {
      "text/plain": [
       "Counter({'neu': 2288, 'compound': 93, 'neg': 68, 'pos': 5})"
      ]
     },
     "execution_count": 26,
     "metadata": {},
     "output_type": "execute_result"
    }
   ],
   "source": [
    "count = Counter(sentiment_true)\n",
    "names, size = [], []\n",
    "for k, v in count.items():\n",
    "    names.append(k)\n",
    "    size.append(v)\n",
    "count"
   ]
  },
  {
   "cell_type": "code",
   "execution_count": 29,
   "metadata": {},
   "outputs": [
    {
     "data": {
      "image/png": "[encoded data removed]",
      "text/plain": [
       "<Figure size 432x288 with 1 Axes>"
      ]
     },
     "metadata": {},
     "output_type": "display_data"
    }
   ],
   "source": [
    "my_circle = plt.Circle( (0,0), 0.7, color='white')\n",
    "\n",
    "from palettable.colorbrewer.qualitative import Pastel1_7\n",
    "plt.pie(size[:3], labels=names[:3], colors=Pastel1_7.hex_colors)\n",
    "p = plt.gcf()\n",
    "p.gca().add_artist(my_circle)\n",
    "plt.savefig(\"fig/sentiment_true.png\", dpi=300)\n",
    "plt.show()"
   ]
  },
  {
   "cell_type": "code",
   "execution_count": 30,
   "metadata": {},
   "outputs": [
    {
     "data": {
      "image/png": "[encoded data removed]",
      "text/plain": [
       "<Figure size 432x288 with 1 Axes>"
      ]
     },
     "metadata": {},
     "output_type": "display_data"
    },
    {
     "data": {
      "text/plain": [
       "(None, Counter({'neu': 1974, 'compound': 78, 'neg': 44, 'pos': 7}))"
      ]
     },
     "execution_count": 30,
     "metadata": {},
     "output_type": "execute_result"
    }
   ],
   "source": [
    "count = Counter(sentiment_fake)\n",
    "names, size = [], []\n",
    "for k, v in count.items():\n",
    "    names.append(k)\n",
    "    size.append(v)\n",
    "\n",
    "my_circle = plt.Circle( (0,0), 0.7, color='white')\n",
    "plt.pie(size[:3], labels=names[:3], colors=Pastel1_7.hex_colors)\n",
    "p = plt.gcf()\n",
    "p.gca().add_artist(my_circle)\n",
    "plt.savefig(\"fig/sentiment_false.png\", dpi=300)\n",
    "plt.show(), count"
   ]
  },
  {
   "cell_type": "markdown",
   "metadata": {},
   "source": [
    "## Model"
   ]
  },
  {
   "cell_type": "code",
   "execution_count": 31,
   "metadata": {},
   "outputs": [
    {
     "name": "stdout",
     "output_type": "stream",
     "text": [
      "vocbulary size: 8265\n"
     ]
    }
   ],
   "source": [
    "# vectorize\n",
    "cntvect = feature_extraction.text.CountVectorizer(stop_words='english', max_features=None)\n",
    "\n",
    "trainX = cntvect.fit_transform(train_pp)\n",
    "testX  = cntvect.transform(test_pp)\n",
    "validX = cntvect.transform(valid_pp)\n",
    "\n",
    "trainY = train_data[1]\n",
    "testY = test_data[1]\n",
    "validY = valid_data[1]\n",
    "\n",
    "print(\"vocbulary size: {}\".format(len(cntvect.vocabulary_)))"
   ]
  },
  {
   "cell_type": "code",
   "execution_count": 32,
   "metadata": {},
   "outputs": [],
   "source": [
    "# TF-IDF representation\n",
    "tf_trans = feature_extraction.text.TfidfTransformer(use_idf=True, norm='l1')\n",
    "\n",
    "trainXtf = tf_trans.fit_transform(trainX)\n",
    "testXtf = tf_trans.transform(testX)"
   ]
  },
  {
   "cell_type": "code",
   "execution_count": 33,
   "metadata": {},
   "outputs": [],
   "source": [
    "# Plot confusion matrix\n",
    "import seaborn as sn\n",
    "classes = ['TRUE', 'mostly-true', 'half-true', 'barely-true', 'FALSE']\n",
    "\n",
    "def plot_conf_matrix(test_labels, pred_labels):\n",
    "    CM = confusion_matrix(test_labels, pred_labels)\n",
    "    ax = plt.axes()\n",
    "    sn.heatmap(CM, annot=True, \n",
    "               xticklabels=classes, \n",
    "               yticklabels=classes, ax = ax, fmt='d')\n",
    "    tick_marks = np.arange(len(classes))\n",
    "    plt.xticks(tick_marks, classes, rotation=0)\n",
    "    plt.yticks(tick_marks, classes)\n",
    "    plt.xlim(-0.1, len(classes))\n",
    "    plt.ylim(-0.1, len(classes))\n",
    "    plt.savefig('cm.png', pmi=300)"
   ]
  },
  {
   "cell_type": "markdown",
   "metadata": {},
   "source": [
    "### Naive Bayes Classifiers"
   ]
  },
  {
   "cell_type": "code",
   "execution_count": 35,
   "metadata": {},
   "outputs": [],
   "source": [
    "from numpy import arange\n",
    "from sklearn.model_selection import GridSearchCV\n",
    "from sklearn.metrics import confusion_matrix \n",
    "from sklearn.metrics import classification_report "
   ]
  },
  {
   "cell_type": "markdown",
   "metadata": {},
   "source": [
    "#### Bernoulli Naive Bayes"
   ]
  },
  {
   "cell_type": "code",
   "execution_count": 36,
   "metadata": {},
   "outputs": [],
   "source": [
    "parameters = {'alpha': arange(0, 0.1, 0.0001)}\n",
    "bmodel = naive_bayes.BernoulliNB()\n",
    "\n",
    "bmodel_cv = GridSearchCV(bmodel, parameters, cv=5, n_jobs=-1)\n",
    "bmodel_cv.fit(trainX, trainY)\n",
    "bmodel_best = bmodel_cv.best_estimator_"
   ]
  },
  {
   "cell_type": "code",
   "execution_count": 37,
   "metadata": {},
   "outputs": [
    {
     "name": "stdout",
     "output_type": "stream",
     "text": [
      "train accuracy:  0.6873046875\n",
      "test accuracy:  0.23993685872138912\n"
     ]
    }
   ],
   "source": [
    "predYtrain = bmodel_best.predict(trainX)\n",
    "acc_train = metrics.accuracy_score(trainY, predYtrain)\n",
    "\n",
    "predYtest = bmodel_best.predict(testX)\n",
    "acc_test = metrics.accuracy_score(testY, predYtest)\n",
    "\n",
    "print(\"train accuracy: \", acc_train)\n",
    "print(\"test accuracy: \", acc_test)"
   ]
  },
  {
   "cell_type": "code",
   "execution_count": 43,
   "metadata": {},
   "outputs": [
    {
     "name": "stderr",
     "output_type": "stream",
     "text": [
      "<ipython-input-33-03e12b627578>:16: MatplotlibDeprecationWarning: savefig() got unexpected keyword argument \"pmi\" which is no longer supported as of 3.3 and will become an error two minor releases later\n",
      "  plt.savefig('cm.png', pmi=300)\n"
     ]
    },
    {
     "name": "stdout",
     "output_type": "stream",
     "text": [
      "\n",
      "Confusion Matrix:\n",
      "  [[42 53 45 34 14 24]\n",
      " [36 55 53 46 15 44]\n",
      " [37 40 76 59 16 37]\n",
      " [23 37 46 72  6 57]\n",
      " [13 23 17 14 15 10]\n",
      " [20 42 41 49 12 44]]\n",
      "\n",
      "Report :                precision    recall  f1-score   support\n",
      "\n",
      " barely-true       0.25      0.20      0.22       212\n",
      "       false       0.22      0.22      0.22       249\n",
      "   half-true       0.27      0.29      0.28       265\n",
      " mostly-true       0.26      0.30      0.28       241\n",
      "  pants-fire       0.19      0.16      0.18        92\n",
      "        true       0.20      0.21      0.21       208\n",
      "\n",
      "    accuracy                           0.24      1267\n",
      "   macro avg       0.23      0.23      0.23      1267\n",
      "weighted avg       0.24      0.24      0.24      1267\n",
      "\n"
     ]
    },
    {
     "data": {
      "image/png": "[encoded data removed]",
      "text/plain": [
       "<Figure size 432x288 with 2 Axes>"
      ]
     },
     "metadata": {
      "needs_background": "light"
     },
     "output_type": "display_data"
    }
   ],
   "source": [
    "plot_conf_matrix(testY, predYtest)\n",
    "\n",
    "print(\"\\nConfusion Matrix:\\n \", \n",
    "        confusion_matrix(testY, predYtest))\n",
    "\n",
    "print(\"\\nReport : \", \n",
    "        classification_report(testY, predYtest))"
   ]
  },
  {
   "cell_type": "code",
   "execution_count": 40,
   "metadata": {},
   "outputs": [
    {
     "name": "stdout",
     "output_type": "stream",
     "text": [
      "\u001b[31mERROR: Could not find a version that satisfies the requirement matplotlab==3.0.3\u001b[0m\n",
      "\u001b[31mERROR: No matching distribution found for matplotlab==3.0.3\u001b[0m\n"
     ]
    }
   ],
   "source": [
    "!pip install matplotlab==3.0.3"
   ]
  },
  {
   "cell_type": "markdown",
   "metadata": {},
   "source": [
    "#### Muliomial Naive Bayes"
   ]
  },
  {
   "cell_type": "code",
   "execution_count": 41,
   "metadata": {},
   "outputs": [
    {
     "name": "stderr",
     "output_type": "stream",
     "text": [
      "/home/kyrie/anaconda3/lib/python3.8/site-packages/sklearn/naive_bayes.py:508: UserWarning: alpha too small will result in numeric errors, setting alpha = 1.0e-10\n",
      "  warnings.warn('alpha too small will result in numeric errors, '\n",
      "/home/kyrie/anaconda3/lib/python3.8/site-packages/sklearn/naive_bayes.py:508: UserWarning: alpha too small will result in numeric errors, setting alpha = 1.0e-10\n",
      "  warnings.warn('alpha too small will result in numeric errors, '\n",
      "/home/kyrie/anaconda3/lib/python3.8/site-packages/sklearn/naive_bayes.py:508: UserWarning: alpha too small will result in numeric errors, setting alpha = 1.0e-10\n",
      "  warnings.warn('alpha too small will result in numeric errors, '\n",
      "/home/kyrie/anaconda3/lib/python3.8/site-packages/sklearn/naive_bayes.py:508: UserWarning: alpha too small will result in numeric errors, setting alpha = 1.0e-10\n",
      "  warnings.warn('alpha too small will result in numeric errors, '\n",
      "/home/kyrie/anaconda3/lib/python3.8/site-packages/sklearn/naive_bayes.py:508: UserWarning: alpha too small will result in numeric errors, setting alpha = 1.0e-10\n",
      "  warnings.warn('alpha too small will result in numeric errors, '\n"
     ]
    }
   ],
   "source": [
    "parameters = {'alpha': arange(0, 0.1, 0.0001)}\n",
    "mmodel_tf = naive_bayes.MultinomialNB()\n",
    "\n",
    "mmodel_tf_cv = GridSearchCV(mmodel_tf, parameters)\n",
    "mmodel_tf_cv.fit(trainX, trainY)\n",
    "mmodel_tf_best = mmodel_tf_cv.best_estimator_"
   ]
  },
  {
   "cell_type": "code",
   "execution_count": 42,
   "metadata": {},
   "outputs": [
    {
     "data": {
      "text/plain": [
       "{'alpha': 0.09290000000000001}"
      ]
     },
     "execution_count": 42,
     "metadata": {},
     "output_type": "execute_result"
    }
   ],
   "source": [
    "mmodel_tf_cv.best_params_"
   ]
  },
  {
   "cell_type": "code",
   "execution_count": 44,
   "metadata": {},
   "outputs": [
    {
     "name": "stdout",
     "output_type": "stream",
     "text": [
      "train accuracy:  0.6802734375\n",
      "test accuracy:  0.23283346487766376\n"
     ]
    }
   ],
   "source": [
    "predYtrain = mmodel_tf_best.predict(trainX)\n",
    "acc_train = metrics.accuracy_score(trainY, predYtrain)\n",
    "\n",
    "predYtest = mmodel_tf_best.predict(testX)\n",
    "acc_test = metrics.accuracy_score(testY, predYtest)\n",
    "\n",
    "print(\"train accuracy: \", acc_train)\n",
    "print(\"test accuracy: \", acc_test)"
   ]
  },
  {
   "cell_type": "code",
   "execution_count": 45,
   "metadata": {},
   "outputs": [
    {
     "name": "stderr",
     "output_type": "stream",
     "text": [
      "<ipython-input-33-03e12b627578>:16: MatplotlibDeprecationWarning: savefig() got unexpected keyword argument \"pmi\" which is no longer supported as of 3.3 and will become an error two minor releases later\n",
      "  plt.savefig('cm.png', pmi=300)\n"
     ]
    },
    {
     "name": "stdout",
     "output_type": "stream",
     "text": [
      "\n",
      "Confusion Matrix:\n",
      "  [[35 50 51 34 16 26]\n",
      " [39 46 58 51 18 37]\n",
      " [41 38 80 61 15 30]\n",
      " [25 35 51 71  6 53]\n",
      " [14 19 16 17 15 11]\n",
      " [24 36 37 49 14 48]]\n",
      "\n",
      "Report :                precision    recall  f1-score   support\n",
      "\n",
      " barely-true       0.20      0.17      0.18       212\n",
      "       false       0.21      0.18      0.19       249\n",
      "   half-true       0.27      0.30      0.29       265\n",
      " mostly-true       0.25      0.29      0.27       241\n",
      "  pants-fire       0.18      0.16      0.17        92\n",
      "        true       0.23      0.23      0.23       208\n",
      "\n",
      "    accuracy                           0.23      1267\n",
      "   macro avg       0.22      0.22      0.22      1267\n",
      "weighted avg       0.23      0.23      0.23      1267\n",
      "\n"
     ]
    },
    {
     "data": {
      "image/png": "[encoded data removed]",
      "text/plain": [
       "<Figure size 432x288 with 2 Axes>"
      ]
     },
     "metadata": {
      "needs_background": "light"
     },
     "output_type": "display_data"
    }
   ],
   "source": [
    "plot_conf_matrix(testY, predYtest)\n",
    "\n",
    "print(\"\\nConfusion Matrix:\\n \", \n",
    "        confusion_matrix(testY, predYtest))\n",
    "\n",
    "print(\"\\nReport : \", \n",
    "        classification_report(testY, predYtest))"
   ]
  },
  {
   "cell_type": "markdown",
   "metadata": {},
   "source": [
    "### Logistic Regression"
   ]
  },
  {
   "cell_type": "code",
   "execution_count": 46,
   "metadata": {},
   "outputs": [
    {
     "name": "stderr",
     "output_type": "stream",
     "text": [
      "/home/kyrie/anaconda3/lib/python3.8/site-packages/sklearn/linear_model/_logistic.py:763: ConvergenceWarning: lbfgs failed to converge (status=1):\n",
      "STOP: TOTAL NO. of ITERATIONS REACHED LIMIT.\n",
      "\n",
      "Increase the number of iterations (max_iter) or scale the data as shown in:\n",
      "    https://scikit-learn.org/stable/modules/preprocessing.html\n",
      "Please also refer to the documentation for alternative solver options:\n",
      "    https://scikit-learn.org/stable/modules/linear_model.html#logistic-regression\n",
      "  n_iter_i = _check_optimize_result(\n",
      "/home/kyrie/anaconda3/lib/python3.8/site-packages/sklearn/linear_model/_logistic.py:763: ConvergenceWarning: lbfgs failed to converge (status=1):\n",
      "STOP: TOTAL NO. of ITERATIONS REACHED LIMIT.\n",
      "\n",
      "Increase the number of iterations (max_iter) or scale the data as shown in:\n",
      "    https://scikit-learn.org/stable/modules/preprocessing.html\n",
      "Please also refer to the documentation for alternative solver options:\n",
      "    https://scikit-learn.org/stable/modules/linear_model.html#logistic-regression\n",
      "  n_iter_i = _check_optimize_result(\n",
      "/home/kyrie/anaconda3/lib/python3.8/site-packages/sklearn/linear_model/_logistic.py:763: ConvergenceWarning: lbfgs failed to converge (status=1):\n",
      "STOP: TOTAL NO. of ITERATIONS REACHED LIMIT.\n",
      "\n",
      "Increase the number of iterations (max_iter) or scale the data as shown in:\n",
      "    https://scikit-learn.org/stable/modules/preprocessing.html\n",
      "Please also refer to the documentation for alternative solver options:\n",
      "    https://scikit-learn.org/stable/modules/linear_model.html#logistic-regression\n",
      "  n_iter_i = _check_optimize_result(\n",
      "/home/kyrie/anaconda3/lib/python3.8/site-packages/sklearn/linear_model/_logistic.py:763: ConvergenceWarning: lbfgs failed to converge (status=1):\n",
      "STOP: TOTAL NO. of ITERATIONS REACHED LIMIT.\n",
      "\n",
      "Increase the number of iterations (max_iter) or scale the data as shown in:\n",
      "    https://scikit-learn.org/stable/modules/preprocessing.html\n",
      "Please also refer to the documentation for alternative solver options:\n",
      "    https://scikit-learn.org/stable/modules/linear_model.html#logistic-regression\n",
      "  n_iter_i = _check_optimize_result(\n",
      "/home/kyrie/anaconda3/lib/python3.8/site-packages/sklearn/linear_model/_logistic.py:763: ConvergenceWarning: lbfgs failed to converge (status=1):\n",
      "STOP: TOTAL NO. of ITERATIONS REACHED LIMIT.\n",
      "\n",
      "Increase the number of iterations (max_iter) or scale the data as shown in:\n",
      "    https://scikit-learn.org/stable/modules/preprocessing.html\n",
      "Please also refer to the documentation for alternative solver options:\n",
      "    https://scikit-learn.org/stable/modules/linear_model.html#logistic-regression\n",
      "  n_iter_i = _check_optimize_result(\n"
     ]
    },
    {
     "name": "stdout",
     "output_type": "stream",
     "text": [
      "best C parameter:  2.782559402207126\n"
     ]
    }
   ],
   "source": [
    "logreg = linear_model.LogisticRegressionCV(cv=5, random_state=0).fit(trainXtf, trainY)\n",
    "\n",
    "print(\"best C parameter: \", logreg.C_[0])"
   ]
  },
  {
   "cell_type": "code",
   "execution_count": 47,
   "metadata": {},
   "outputs": [
    {
     "name": "stdout",
     "output_type": "stream",
     "text": [
      "train accuracy:  0.49951171875\n",
      "test accuracy:  0.23125493291239146\n"
     ]
    }
   ],
   "source": [
    "predYtrain = logreg.predict(trainXtf)\n",
    "acc_train = metrics.accuracy_score(trainY, predYtrain)\n",
    "\n",
    "predYtest = logreg.predict(testXtf)\n",
    "acc_test = metrics.accuracy_score(testY, predYtest)\n",
    "\n",
    "print(\"train accuracy: \", acc_train)\n",
    "print(\"test accuracy: \", acc_test)"
   ]
  },
  {
   "cell_type": "code",
   "execution_count": 48,
   "metadata": {},
   "outputs": [
    {
     "name": "stderr",
     "output_type": "stream",
     "text": [
      "<ipython-input-33-03e12b627578>:16: MatplotlibDeprecationWarning: savefig() got unexpected keyword argument \"pmi\" which is no longer supported as of 3.3 and will become an error two minor releases later\n",
      "  plt.savefig('cm.png', pmi=300)\n"
     ]
    },
    {
     "name": "stdout",
     "output_type": "stream",
     "text": [
      "\n",
      "Confusion Matrix:\n",
      "  [[22 67 74 31  0 18]\n",
      " [23 85 74 47  0 20]\n",
      " [25 61 86 68  0 25]\n",
      " [14 47 73 67  0 40]\n",
      " [13 33 29  8  1  8]\n",
      " [13 53 55 52  3 32]]\n",
      "\n",
      "Report :                precision    recall  f1-score   support\n",
      "\n",
      " barely-true       0.20      0.10      0.14       212\n",
      "       false       0.25      0.34      0.29       249\n",
      "   half-true       0.22      0.32      0.26       265\n",
      " mostly-true       0.25      0.28      0.26       241\n",
      "  pants-fire       0.25      0.01      0.02        92\n",
      "        true       0.22      0.15      0.18       208\n",
      "\n",
      "    accuracy                           0.23      1267\n",
      "   macro avg       0.23      0.20      0.19      1267\n",
      "weighted avg       0.23      0.23      0.21      1267\n",
      "\n"
     ]
    },
    {
     "data": {
      "image/png": "[encoded data removed]",
      "text/plain": [
       "<Figure size 432x288 with 2 Axes>"
      ]
     },
     "metadata": {
      "needs_background": "light"
     },
     "output_type": "display_data"
    }
   ],
   "source": [
    "plot_conf_matrix(testY, predYtest)\n",
    "\n",
    "print(\"\\nConfusion Matrix:\\n \", \n",
    "        confusion_matrix(testY, predYtest))\n",
    "\n",
    "print(\"\\nReport : \", \n",
    "        classification_report(testY, predYtest))"
   ]
  },
  {
   "cell_type": "markdown",
   "metadata": {},
   "source": [
    "### AdaBoost"
   ]
  },
  {
   "cell_type": "code",
   "execution_count": 49,
   "metadata": {},
   "outputs": [
    {
     "data": {
      "text/plain": [
       "0.22001953125"
      ]
     },
     "execution_count": 49,
     "metadata": {},
     "output_type": "execute_result"
    }
   ],
   "source": [
    "paramgrid = {'n_estimators': [10, 50, 100, 1000] }\n",
    "\n",
    "adaclf = ensemble.AdaBoostClassifier(random_state=5489, algorithm='SAMME')\n",
    "adacv = model_selection.GridSearchCV(adaclf, param_grid=paramgrid, cv=5, n_jobs=-1)\n",
    "adacv.fit(trainXtf, trainY)\n",
    "adacv.best_score_"
   ]
  },
  {
   "cell_type": "code",
   "execution_count": 55,
   "metadata": {},
   "outputs": [
    {
     "name": "stdout",
     "output_type": "stream",
     "text": [
      "train accuracy:  0.24326171875\n",
      "test accuracy:  0.2280978689818469\n"
     ]
    }
   ],
   "source": [
    "predYtrain = adacv.best_estimator_.predict(trainXtf)\n",
    "acc_train = metrics.accuracy_score(trainY, predYtrain)\n",
    "\n",
    "predYtest = adacv.best_estimator_.predict(testXtf)\n",
    "acc_test = metrics.accuracy_score(testY, predYtest)\n",
    "\n",
    "print(\"train accuracy: \", acc_train)\n",
    "print(\"test accuracy: \", acc_test)"
   ]
  },
  {
   "cell_type": "code",
   "execution_count": 56,
   "metadata": {},
   "outputs": [
    {
     "name": "stderr",
     "output_type": "stream",
     "text": [
      "<ipython-input-33-03e12b627578>:16: MatplotlibDeprecationWarning: savefig() got unexpected keyword argument \"pmi\" which is no longer supported as of 3.3 and will become an error two minor releases later\n",
      "  plt.savefig('cm.png', pmi=300)\n"
     ]
    },
    {
     "name": "stdout",
     "output_type": "stream",
     "text": [
      "\n",
      "Confusion Matrix:\n",
      "  [[  4 126  46  29   0   7]\n",
      " [  3 158  40  42   0   6]\n",
      " [  6 137  56  53   0  13]\n",
      " [  2 107  65  55   0  12]\n",
      " [  0  59  20  11   1   1]\n",
      " [  1 102  40  50   0  15]]\n",
      "\n",
      "Report :                precision    recall  f1-score   support\n",
      "\n",
      " barely-true       0.25      0.02      0.04       212\n",
      "       false       0.23      0.63      0.34       249\n",
      "   half-true       0.21      0.21      0.21       265\n",
      " mostly-true       0.23      0.23      0.23       241\n",
      "  pants-fire       1.00      0.01      0.02        92\n",
      "        true       0.28      0.07      0.11       208\n",
      "\n",
      "    accuracy                           0.23      1267\n",
      "   macro avg       0.37      0.20      0.16      1267\n",
      "weighted avg       0.29      0.23      0.18      1267\n",
      "\n"
     ]
    },
    {
     "data": {
      "image/png": "[encoded data removed]",
      "text/plain": [
       "<Figure size 432x288 with 2 Axes>"
      ]
     },
     "metadata": {
      "needs_background": "light"
     },
     "output_type": "display_data"
    }
   ],
   "source": [
    "plot_conf_matrix(testY, predYtest)\n",
    "\n",
    "print(\"\\nConfusion Matrix:\\n \", \n",
    "        confusion_matrix(testY, predYtest))\n",
    "\n",
    "print(\"\\nReport : \", \n",
    "        classification_report(testY, predYtest))"
   ]
  },
  {
   "cell_type": "markdown",
   "metadata": {},
   "source": [
    "### Random Forest"
   ]
  },
  {
   "cell_type": "code",
   "execution_count": 57,
   "metadata": {},
   "outputs": [
    {
     "data": {
      "text/plain": [
       "0.24921875"
      ]
     },
     "execution_count": 57,
     "metadata": {},
     "output_type": "execute_result"
    }
   ],
   "source": [
    "paramgrid = {'n_estimators': range(50, 501, 50)}\n",
    "rf = ensemble.RandomForestClassifier(random_state=0, n_jobs=-1, )\n",
    "\n",
    "rfcv = model_selection.GridSearchCV(rf, param_grid=paramgrid, cv=5, n_jobs=-1)\n",
    "rfcv.fit(trainXtf, trainY)\n",
    "rfcv.best_score_"
   ]
  },
  {
   "cell_type": "code",
   "execution_count": 58,
   "metadata": {},
   "outputs": [
    {
     "data": {
      "text/plain": [
       "{'n_estimators': 500}"
      ]
     },
     "execution_count": 58,
     "metadata": {},
     "output_type": "execute_result"
    }
   ],
   "source": [
    "rfcv.best_params_"
   ]
  },
  {
   "cell_type": "code",
   "execution_count": 59,
   "metadata": {},
   "outputs": [
    {
     "name": "stdout",
     "output_type": "stream",
     "text": [
      "train accuracy:  0.99921875\n",
      "test accuracy:  0.24388318863456984\n"
     ]
    }
   ],
   "source": [
    "predYtrain = rfcv.best_estimator_.predict(trainXtf)\n",
    "acc_train = metrics.accuracy_score(trainY, predYtrain)\n",
    "\n",
    "predYtest = rfcv.best_estimator_.predict(testXtf)\n",
    "acc_test = metrics.accuracy_score(testY, predYtest)\n",
    "\n",
    "print(\"train accuracy: \", acc_train)\n",
    "print(\"test accuracy: \", acc_test)"
   ]
  },
  {
   "cell_type": "code",
   "execution_count": 60,
   "metadata": {},
   "outputs": [
    {
     "name": "stdout",
     "output_type": "stream",
     "text": [
      "\n",
      "Confusion Matrix:\n",
      "  [[32 68 51 42  1 18]\n",
      " [22 96 63 49  2 17]\n",
      " [22 75 75 69  1 23]\n",
      " [16 64 59 68  2 32]\n",
      " [15 40 16 11  4  6]\n",
      " [11 62 37 60  4 34]]\n",
      "\n",
      "Report :                precision    recall  f1-score   support\n",
      "\n",
      " barely-true       0.27      0.15      0.19       212\n",
      "       false       0.24      0.39      0.29       249\n",
      "   half-true       0.25      0.28      0.27       265\n",
      " mostly-true       0.23      0.28      0.25       241\n",
      "  pants-fire       0.29      0.04      0.08        92\n",
      "        true       0.26      0.16      0.20       208\n",
      "\n",
      "    accuracy                           0.24      1267\n",
      "   macro avg       0.26      0.22      0.21      1267\n",
      "weighted avg       0.25      0.24      0.23      1267\n",
      "\n"
     ]
    },
    {
     "name": "stderr",
     "output_type": "stream",
     "text": [
      "<ipython-input-33-03e12b627578>:16: MatplotlibDeprecationWarning: savefig() got unexpected keyword argument \"pmi\" which is no longer supported as of 3.3 and will become an error two minor releases later\n",
      "  plt.savefig('cm.png', pmi=300)\n"
     ]
    },
    {
     "data": {
      "image/png": "[encoded data removed]",
      "text/plain": [
       "<Figure size 432x288 with 2 Axes>"
      ]
     },
     "metadata": {
      "needs_background": "light"
     },
     "output_type": "display_data"
    }
   ],
   "source": [
    "plot_conf_matrix(testY, predYtest)\n",
    "\n",
    "print(\"\\nConfusion Matrix:\\n \", \n",
    "        confusion_matrix(testY, predYtest))\n",
    "\n",
    "print(\"\\nReport : \", \n",
    "        classification_report(testY, predYtest))"
   ]
  },
  {
   "cell_type": "code",
   "execution_count": null,
   "metadata": {
    "jupyter": {
     "source_hidden": true
    },
    "tags": []
   },
   "outputs": [],
   "source": [
    "plot_conf_matrix(testY, predYtest)\n",
    "\n",
    "print(\"\\nConfusion Matrix:\\n \", \n",
    "        confusion_matrix(testY, predYtest))\n",
    "\n",
    "print(\"\\nReport : \", \n",
    "        classification_report(testY, predYtest))"
   ]
  },
  {
   "cell_type": "markdown",
   "metadata": {},
   "source": [
    "### SVM"
   ]
  },
  {
   "cell_type": "code",
   "execution_count": 61,
   "metadata": {},
   "outputs": [],
   "source": [
    "# SVM\n",
    "exps = {\n",
    "    'svm-rbf': {\n",
    "        'paramgrid': {'C': logspace(-2,3,10), 'gamma': logspace(-4,3,10) },\n",
    "        'clf': svm.SVC(kernel='rbf', class_weight='balanced') },\n",
    "#     'svm-poly': {\n",
    "#         'paramgrid': {'C': logspace(-2,3,10), 'degree': [2, 3, 4] },\n",
    "#         'clf': svm.SVC(kernel='poly', class_weight='balanced') },\n",
    "    }"
   ]
  },
  {
   "cell_type": "code",
   "execution_count": 62,
   "metadata": {},
   "outputs": [
    {
     "name": "stdout",
     "output_type": "stream",
     "text": [
      "svm-rbf: \n",
      "0.25146484375\n",
      "{'C': 1.6681005372000592, 'gamma': 4.641588833612782}\n"
     ]
    }
   ],
   "source": [
    "clfs = {}\n",
    "\n",
    "for k, v in exps.items():\n",
    "    cv = model_selection.GridSearchCV(v['clf'], param_grid=v['paramgrid'], cv=5, n_jobs=-1)\n",
    "    cv.fit(trainXtf, trainY)\n",
    "    clfs[k] = cv\n",
    "    \n",
    "    print(\"{}: \".format(k))\n",
    "    print(clfs[k].best_score_)\n",
    "    print(clfs[k].best_params_)"
   ]
  },
  {
   "cell_type": "code",
   "execution_count": 63,
   "metadata": {},
   "outputs": [
    {
     "name": "stdout",
     "output_type": "stream",
     "text": [
      "train accuracy:  0.87900390625\n",
      "test accuracy:  0.24230465666929754\n"
     ]
    }
   ],
   "source": [
    "### INSERT YOUR CODE HERE\n",
    "for k, v in clfs.items():\n",
    "    predYtrain = v.best_estimator_.predict(trainXtf)\n",
    "    acc_train = metrics.accuracy_score(trainY, predYtrain)\n",
    "\n",
    "    predYtest = v.best_estimator_.predict(testXtf)\n",
    "    acc_test = metrics.accuracy_score(testY, predYtest)\n",
    "    \n",
    "    print(\"train accuracy: \", acc_train)\n",
    "    print(\"test accuracy: \", acc_test)"
   ]
  },
  {
   "cell_type": "code",
   "execution_count": 64,
   "metadata": {},
   "outputs": [
    {
     "name": "stderr",
     "output_type": "stream",
     "text": [
      "<ipython-input-33-03e12b627578>:16: MatplotlibDeprecationWarning: savefig() got unexpected keyword argument \"pmi\" which is no longer supported as of 3.3 and will become an error two minor releases later\n",
      "  plt.savefig('cm.png', pmi=300)\n"
     ]
    },
    {
     "name": "stdout",
     "output_type": "stream",
     "text": [
      "\n",
      "Confusion Matrix:\n",
      "  [[52 41 45 27 17 30]\n",
      " [49 60 46 39 15 40]\n",
      " [51 47 70 50 15 32]\n",
      " [33 32 52 58 11 55]\n",
      " [18 22 15 11 16 10]\n",
      " [24 37 42 42 12 51]]\n",
      "\n",
      "Report :                precision    recall  f1-score   support\n",
      "\n",
      " barely-true       0.23      0.25      0.24       212\n",
      "       false       0.25      0.24      0.25       249\n",
      "   half-true       0.26      0.26      0.26       265\n",
      " mostly-true       0.26      0.24      0.25       241\n",
      "  pants-fire       0.19      0.17      0.18        92\n",
      "        true       0.23      0.25      0.24       208\n",
      "\n",
      "    accuracy                           0.24      1267\n",
      "   macro avg       0.24      0.24      0.24      1267\n",
      "weighted avg       0.24      0.24      0.24      1267\n",
      "\n"
     ]
    },
    {
     "data": {
      "image/png": "[encoded data removed]",
      "text/plain": [
       "<Figure size 432x288 with 2 Axes>"
      ]
     },
     "metadata": {
      "needs_background": "light"
     },
     "output_type": "display_data"
    }
   ],
   "source": [
    "plot_conf_matrix(testY, predYtest)\n",
    "\n",
    "print(\"\\nConfusion Matrix:\\n \", \n",
    "        confusion_matrix(testY, predYtest))\n",
    "\n",
    "print(\"\\nReport : \", \n",
    "        classification_report(testY, predYtest))"
   ]
  },
  {
   "cell_type": "markdown",
   "metadata": {},
   "source": [
    "### Ensemble"
   ]
  },
  {
   "cell_type": "code",
   "execution_count": 65,
   "metadata": {},
   "outputs": [],
   "source": [
    "# Ensemble\n",
    "from sklearn.ensemble import RandomForestClassifier, VotingClassifier\n",
    "from sklearn.linear_model import LogisticRegression"
   ]
  },
  {
   "cell_type": "code",
   "execution_count": 66,
   "metadata": {},
   "outputs": [
    {
     "name": "stderr",
     "output_type": "stream",
     "text": [
      "/home/kyrie/anaconda3/lib/python3.8/site-packages/sklearn/linear_model/_logistic.py:763: ConvergenceWarning: lbfgs failed to converge (status=1):\n",
      "STOP: TOTAL NO. of ITERATIONS REACHED LIMIT.\n",
      "\n",
      "Increase the number of iterations (max_iter) or scale the data as shown in:\n",
      "    https://scikit-learn.org/stable/modules/preprocessing.html\n",
      "Please also refer to the documentation for alternative solver options:\n",
      "    https://scikit-learn.org/stable/modules/linear_model.html#logistic-regression\n",
      "  n_iter_i = _check_optimize_result(\n"
     ]
    }
   ],
   "source": [
    "clf1 = RandomForestClassifier(n_estimators=500, random_state=1)\n",
    "clf2 = svm.SVC(kernel='rbf', C=1.6681005372000592, gamma=4.641588833612782)\n",
    "clf3 = LogisticRegression(C=2.782559402207126)\n",
    "\n",
    "\n",
    "eclf = VotingClassifier(estimators=[\n",
    "    ('rf', clf1), ('svm', clf2), ('lr', clf3)], voting='hard')\n",
    "\n",
    "eclf = eclf.fit(trainXtf, trainY)"
   ]
  },
  {
   "cell_type": "code",
   "execution_count": 67,
   "metadata": {},
   "outputs": [
    {
     "name": "stdout",
     "output_type": "stream",
     "text": [
      "train accuracy:  0.88583984375\n",
      "test accuracy:  0.23914759273875297\n"
     ]
    }
   ],
   "source": [
    "predYtrain = eclf.predict(trainXtf)\n",
    "acc_train = metrics.accuracy_score(trainY, predYtrain)\n",
    "\n",
    "predYtest = eclf.predict(testXtf)\n",
    "acc_test = metrics.accuracy_score(testY, predYtest)\n",
    "\n",
    "print(\"train accuracy: \", acc_train)\n",
    "print(\"test accuracy: \", acc_test)"
   ]
  },
  {
   "cell_type": "code",
   "execution_count": 68,
   "metadata": {},
   "outputs": [
    {
     "name": "stdout",
     "output_type": "stream",
     "text": [
      "\n",
      "Confusion Matrix:\n",
      "  [[35 68 60 32  0 17]\n",
      " [33 90 65 45  0 16]\n",
      " [43 67 81 54  0 20]\n",
      " [17 50 70 64  0 40]\n",
      " [14 36 23  9  4  6]\n",
      " [19 54 55 48  3 29]]\n",
      "\n",
      "Report :                precision    recall  f1-score   support\n",
      "\n",
      " barely-true       0.22      0.17      0.19       212\n",
      "       false       0.25      0.36      0.29       249\n",
      "   half-true       0.23      0.31      0.26       265\n",
      " mostly-true       0.25      0.27      0.26       241\n",
      "  pants-fire       0.57      0.04      0.08        92\n",
      "        true       0.23      0.14      0.17       208\n",
      "\n",
      "    accuracy                           0.24      1267\n",
      "   macro avg       0.29      0.21      0.21      1267\n",
      "weighted avg       0.26      0.24      0.23      1267\n",
      "\n"
     ]
    },
    {
     "name": "stderr",
     "output_type": "stream",
     "text": [
      "<ipython-input-33-03e12b627578>:16: MatplotlibDeprecationWarning: savefig() got unexpected keyword argument \"pmi\" which is no longer supported as of 3.3 and will become an error two minor releases later\n",
      "  plt.savefig('cm.png', pmi=300)\n"
     ]
    },
    {
     "data": {
      "image/png": "[encoded data removed]",
      "text/plain": [
       "<Figure size 432x288 with 2 Axes>"
      ]
     },
     "metadata": {
      "needs_background": "light"
     },
     "output_type": "display_data"
    }
   ],
   "source": [
    "plot_conf_matrix(testY, predYtest)\n",
    "\n",
    "print(\"\\nConfusion Matrix:\\n \", \n",
    "        confusion_matrix(testY, predYtest))\n",
    "\n",
    "print(\"\\nReport : \", \n",
    "        classification_report(testY, predYtest))"
   ]
  },
  {
   "cell_type": "code",
   "execution_count": null,
   "metadata": {},
   "outputs": [],
   "source": []
  }
 ],
 "metadata": {
  "kernelspec": {
   "display_name": "Python 3",
   "language": "python",
   "name": "python3"
  },
  "language_info": {
   "codemirror_mode": {
    "name": "ipython",
    "version": 3
   },
   "file_extension": ".py",
   "mimetype": "text/x-python",
   "name": "python",
   "nbconvert_exporter": "python",
   "pygments_lexer": "ipython3",
   "version": "3.7.4"
  }
 },
 "nbformat": 4,
 "nbformat_minor": 4
}
